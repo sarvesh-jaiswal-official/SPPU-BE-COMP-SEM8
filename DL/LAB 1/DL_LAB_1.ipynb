{
 "cells": [
  {
   "cell_type": "code",
   "execution_count": 1,
   "id": "11c38845",
   "metadata": {
    "id": "11c38845"
   },
   "outputs": [],
   "source": [
    "# Importing libraries\n",
    "import numpy as np\n",
    "import pandas as pd\n",
    "import tensorflow as tf\n",
    "from sklearn.model_selection import train_test_split\n",
    "from sklearn.preprocessing import StandardScaler\n",
    "from sklearn.metrics import r2_score\n",
    "import matplotlib.pyplot as plt"
   ]
  },
  {
   "cell_type": "code",
   "execution_count": 2,
   "id": "d47d09fa",
   "metadata": {
    "id": "d47d09fa"
   },
   "outputs": [],
   "source": [
    "# Loading the Boston Housing dataset\n",
    "boston_dataset = pd.read_csv('Boston.csv')\n",
    "boston = pd.DataFrame(boston_dataset, columns=boston_dataset.columns)\n",
    "boston['MEDV'] = boston_dataset['medv']\n",
    "\n",
    "\n"
   ]
  },
  {
   "cell_type": "code",
   "execution_count": 3,
   "id": "8741c5cb",
   "metadata": {
    "id": "8741c5cb",
    "outputId": "d36126d7-24e6-4491-9f49-e0ba9ad6e8f3"
   },
   "outputs": [
    {
     "data": {
      "text/plain": [
       "(506, 16)"
      ]
     },
     "execution_count": 3,
     "metadata": {},
     "output_type": "execute_result"
    }
   ],
   "source": [
    "boston_dataset.shape"
   ]
  },
  {
   "cell_type": "code",
   "execution_count": 4,
   "id": "f4074ae2",
   "metadata": {
    "id": "f4074ae2",
    "outputId": "a2c33cdf-e556-4627-fe27-345625543d0e"
   },
   "outputs": [
    {
     "name": "stdout",
     "output_type": "stream",
     "text": [
      "   Unnamed: 0     crim    zn  indus  chas    nox     rm   age     dis  rad  \\\n",
      "0           1  0.00632  18.0   2.31     0  0.538  6.575  65.2  4.0900    1   \n",
      "1           2  0.02731   0.0   7.07     0  0.469  6.421  78.9  4.9671    2   \n",
      "2           3  0.02729   0.0   7.07     0  0.469  7.185  61.1  4.9671    2   \n",
      "3           4  0.03237   0.0   2.18     0  0.458  6.998  45.8  6.0622    3   \n",
      "4           5  0.06905   0.0   2.18     0  0.458  7.147  54.2  6.0622    3   \n",
      "\n",
      "   tax  ptratio   black  lstat  medv  MEDV  \n",
      "0  296     15.3  396.90   4.98  24.0  24.0  \n",
      "1  242     17.8  396.90   9.14  21.6  21.6  \n",
      "2  242     17.8  392.83   4.03  34.7  34.7  \n",
      "3  222     18.7  394.63   2.94  33.4  33.4  \n",
      "4  222     18.7  396.90   5.33  36.2  36.2  \n"
     ]
    }
   ],
   "source": [
    "print(boston_dataset.head(5))"
   ]
  },
  {
   "cell_type": "code",
   "execution_count": 5,
   "id": "759e4ecf",
   "metadata": {
    "id": "759e4ecf",
    "outputId": "f3d2ca30-bf28-4142-f74b-f5a8f6765321"
   },
   "outputs": [
    {
     "name": "stdout",
     "output_type": "stream",
     "text": [
      "(506, 16)\n"
     ]
    }
   ],
   "source": [
    "print(np.shape(boston_dataset))"
   ]
  },
  {
   "cell_type": "code",
   "execution_count": 6,
   "id": "9914687f",
   "metadata": {
    "id": "9914687f",
    "outputId": "d722321f-8dba-4a83-8470-50ea7f759e89"
   },
   "outputs": [
    {
     "name": "stdout",
     "output_type": "stream",
     "text": [
      "       Unnamed: 0        crim          zn       indus        chas         nox  \\\n",
      "count  506.000000  506.000000  506.000000  506.000000  506.000000  506.000000   \n",
      "mean   253.500000    3.613524   11.363636   11.136779    0.069170    0.554695   \n",
      "std    146.213884    8.601545   23.322453    6.860353    0.253994    0.115878   \n",
      "min      1.000000    0.006320    0.000000    0.460000    0.000000    0.385000   \n",
      "25%    127.250000    0.082045    0.000000    5.190000    0.000000    0.449000   \n",
      "50%    253.500000    0.256510    0.000000    9.690000    0.000000    0.538000   \n",
      "75%    379.750000    3.677083   12.500000   18.100000    0.000000    0.624000   \n",
      "max    506.000000   88.976200  100.000000   27.740000    1.000000    0.871000   \n",
      "\n",
      "               rm         age         dis         rad         tax     ptratio  \\\n",
      "count  506.000000  506.000000  506.000000  506.000000  506.000000  506.000000   \n",
      "mean     6.284634   68.574901    3.795043    9.549407  408.237154   18.455534   \n",
      "std      0.702617   28.148861    2.105710    8.707259  168.537116    2.164946   \n",
      "min      3.561000    2.900000    1.129600    1.000000  187.000000   12.600000   \n",
      "25%      5.885500   45.025000    2.100175    4.000000  279.000000   17.400000   \n",
      "50%      6.208500   77.500000    3.207450    5.000000  330.000000   19.050000   \n",
      "75%      6.623500   94.075000    5.188425   24.000000  666.000000   20.200000   \n",
      "max      8.780000  100.000000   12.126500   24.000000  711.000000   22.000000   \n",
      "\n",
      "            black       lstat        medv        MEDV  \n",
      "count  506.000000  506.000000  506.000000  506.000000  \n",
      "mean   356.674032   12.653063   22.532806   22.532806  \n",
      "std     91.294864    7.141062    9.197104    9.197104  \n",
      "min      0.320000    1.730000    5.000000    5.000000  \n",
      "25%    375.377500    6.950000   17.025000   17.025000  \n",
      "50%    391.440000   11.360000   21.200000   21.200000  \n",
      "75%    396.225000   16.955000   25.000000   25.000000  \n",
      "max    396.900000   37.970000   50.000000   50.000000  \n"
     ]
    }
   ],
   "source": [
    "print(boston_dataset.describe())"
   ]
  },
  {
   "cell_type": "code",
   "execution_count": 7,
   "id": "22985c99",
   "metadata": {
    "id": "22985c99"
   },
   "outputs": [],
   "source": [
    "# Split the data into training and testing sets\n",
    "X = boston.drop('MEDV', axis=1)\n",
    "Y = boston['MEDV']\n",
    "X_train, X_test, Y_train, Y_test = train_test_split(X, Y, test_size=0.2, random_state=1)"
   ]
  },
  {
   "cell_type": "code",
   "execution_count": 8,
   "id": "6d3c93bb",
   "metadata": {
    "id": "6d3c93bb"
   },
   "outputs": [],
   "source": [
    "\n",
    "\n",
    "# Scale the data\n",
    "scaler = StandardScaler()\n",
    "X_train_scaled = scaler.fit_transform(X_train)\n",
    "X_test_scaled = scaler.transform(X_test)"
   ]
  },
  {
   "cell_type": "code",
   "execution_count": 9,
   "id": "6d168276",
   "metadata": {
    "id": "6d168276"
   },
   "outputs": [],
   "source": [
    "# Define the model\n",
    "model = tf.keras.models.Sequential([\n",
    "  tf.keras.layers.Dense(64, activation='relu', input_shape=(X_train.shape[1],)),\n",
    "  tf.keras.layers.Dense(64, activation='relu'),\n",
    "  tf.keras.layers.Dense(1)\n",
    "])"
   ]
  },
  {
   "cell_type": "code",
   "execution_count": 10,
   "id": "67bd8062",
   "metadata": {
    "id": "67bd8062"
   },
   "outputs": [],
   "source": [
    "# Compile the model\n",
    "model.compile(optimizer='adam', loss='mse')"
   ]
  },
  {
   "cell_type": "code",
   "execution_count": 11,
   "id": "1a23efb0",
   "metadata": {
    "id": "1a23efb0",
    "outputId": "36bcdf98-e6a8-44db-dfe3-1adc44e6f35f"
   },
   "outputs": [
    {
     "name": "stdout",
     "output_type": "stream",
     "text": [
      "Epoch 1/100\n",
      "13/13 [==============================] - 1s 20ms/step - loss: 544.7557 - val_loss: 528.2176\n",
      "Epoch 2/100\n",
      "13/13 [==============================] - 0s 6ms/step - loss: 474.2619 - val_loss: 450.4079\n",
      "Epoch 3/100\n",
      "13/13 [==============================] - 0s 6ms/step - loss: 386.4602 - val_loss: 351.7784\n",
      "Epoch 4/100\n",
      "13/13 [==============================] - 0s 7ms/step - loss: 278.7653 - val_loss: 237.4474\n",
      "Epoch 5/100\n",
      "13/13 [==============================] - 0s 6ms/step - loss: 166.2076 - val_loss: 133.5319\n",
      "Epoch 6/100\n",
      "13/13 [==============================] - 0s 6ms/step - loss: 88.7835 - val_loss: 74.4762\n",
      "Epoch 7/100\n",
      "13/13 [==============================] - 0s 7ms/step - loss: 56.3596 - val_loss: 50.7624\n",
      "Epoch 8/100\n",
      "13/13 [==============================] - 0s 6ms/step - loss: 41.2469 - val_loss: 35.8589\n",
      "Epoch 9/100\n",
      "13/13 [==============================] - 0s 6ms/step - loss: 29.9458 - val_loss: 26.2243\n",
      "Epoch 10/100\n",
      "13/13 [==============================] - 0s 5ms/step - loss: 22.9147 - val_loss: 20.6316\n",
      "Epoch 11/100\n",
      "13/13 [==============================] - 0s 6ms/step - loss: 18.7007 - val_loss: 17.2213\n",
      "Epoch 12/100\n",
      "13/13 [==============================] - 0s 6ms/step - loss: 15.8012 - val_loss: 15.3307\n",
      "Epoch 13/100\n",
      "13/13 [==============================] - 0s 6ms/step - loss: 13.9863 - val_loss: 13.8547\n",
      "Epoch 14/100\n",
      "13/13 [==============================] - 0s 6ms/step - loss: 12.3514 - val_loss: 12.7239\n",
      "Epoch 15/100\n",
      "13/13 [==============================] - 0s 7ms/step - loss: 11.1191 - val_loss: 11.8005\n",
      "Epoch 16/100\n",
      "13/13 [==============================] - 0s 6ms/step - loss: 10.0941 - val_loss: 10.9234\n",
      "Epoch 17/100\n",
      "13/13 [==============================] - 0s 5ms/step - loss: 9.1952 - val_loss: 10.0745\n",
      "Epoch 18/100\n",
      "13/13 [==============================] - 0s 7ms/step - loss: 8.3820 - val_loss: 9.3967\n",
      "Epoch 19/100\n",
      "13/13 [==============================] - 0s 6ms/step - loss: 7.7622 - val_loss: 8.8787\n",
      "Epoch 20/100\n",
      "13/13 [==============================] - 0s 6ms/step - loss: 7.2135 - val_loss: 8.2846\n",
      "Epoch 21/100\n",
      "13/13 [==============================] - 0s 6ms/step - loss: 6.6660 - val_loss: 7.6962\n",
      "Epoch 22/100\n",
      "13/13 [==============================] - 0s 6ms/step - loss: 6.2597 - val_loss: 7.2311\n",
      "Epoch 23/100\n",
      "13/13 [==============================] - 0s 6ms/step - loss: 5.8609 - val_loss: 6.8703\n",
      "Epoch 24/100\n",
      "13/13 [==============================] - 0s 6ms/step - loss: 5.5483 - val_loss: 6.5370\n",
      "Epoch 25/100\n",
      "13/13 [==============================] - 0s 6ms/step - loss: 5.2237 - val_loss: 6.1241\n",
      "Epoch 26/100\n",
      "13/13 [==============================] - 0s 6ms/step - loss: 4.9893 - val_loss: 5.8749\n",
      "Epoch 27/100\n",
      "13/13 [==============================] - 0s 6ms/step - loss: 4.7292 - val_loss: 5.5789\n",
      "Epoch 28/100\n",
      "13/13 [==============================] - 0s 5ms/step - loss: 4.5355 - val_loss: 5.4220\n",
      "Epoch 29/100\n",
      "13/13 [==============================] - 0s 6ms/step - loss: 4.3526 - val_loss: 5.1536\n",
      "Epoch 30/100\n",
      "13/13 [==============================] - 0s 6ms/step - loss: 4.1909 - val_loss: 4.9802\n",
      "Epoch 31/100\n",
      "13/13 [==============================] - 0s 6ms/step - loss: 4.0084 - val_loss: 4.7379\n",
      "Epoch 32/100\n",
      "13/13 [==============================] - 0s 7ms/step - loss: 3.8600 - val_loss: 4.6386\n",
      "Epoch 33/100\n",
      "13/13 [==============================] - 0s 7ms/step - loss: 3.7354 - val_loss: 4.4787\n",
      "Epoch 34/100\n",
      "13/13 [==============================] - 0s 6ms/step - loss: 3.5799 - val_loss: 4.2570\n",
      "Epoch 35/100\n",
      "13/13 [==============================] - 0s 5ms/step - loss: 3.5040 - val_loss: 4.1388\n",
      "Epoch 36/100\n",
      "13/13 [==============================] - 0s 6ms/step - loss: 3.3625 - val_loss: 3.9860\n",
      "Epoch 37/100\n",
      "13/13 [==============================] - 0s 6ms/step - loss: 3.2475 - val_loss: 3.8835\n",
      "Epoch 38/100\n",
      "13/13 [==============================] - 0s 6ms/step - loss: 3.1808 - val_loss: 3.7203\n",
      "Epoch 39/100\n",
      "13/13 [==============================] - 0s 6ms/step - loss: 3.0265 - val_loss: 3.6454\n",
      "Epoch 40/100\n",
      "13/13 [==============================] - 0s 6ms/step - loss: 2.9619 - val_loss: 3.5450\n",
      "Epoch 41/100\n",
      "13/13 [==============================] - 0s 6ms/step - loss: 2.8546 - val_loss: 3.4093\n",
      "Epoch 42/100\n",
      "13/13 [==============================] - 0s 5ms/step - loss: 2.7699 - val_loss: 3.3024\n",
      "Epoch 43/100\n",
      "13/13 [==============================] - 0s 6ms/step - loss: 2.6705 - val_loss: 3.2194\n",
      "Epoch 44/100\n",
      "13/13 [==============================] - 0s 6ms/step - loss: 2.5973 - val_loss: 3.0859\n",
      "Epoch 45/100\n",
      "13/13 [==============================] - 0s 6ms/step - loss: 2.5165 - val_loss: 3.0507\n",
      "Epoch 46/100\n",
      "13/13 [==============================] - 0s 7ms/step - loss: 2.4570 - val_loss: 2.9426\n",
      "Epoch 47/100\n",
      "13/13 [==============================] - 0s 6ms/step - loss: 2.3949 - val_loss: 2.8561\n",
      "Epoch 48/100\n",
      "13/13 [==============================] - 0s 5ms/step - loss: 2.3214 - val_loss: 2.7287\n",
      "Epoch 49/100\n",
      "13/13 [==============================] - 0s 6ms/step - loss: 2.2469 - val_loss: 2.7258\n",
      "Epoch 50/100\n",
      "13/13 [==============================] - 0s 6ms/step - loss: 2.1974 - val_loss: 2.6972\n",
      "Epoch 51/100\n",
      "13/13 [==============================] - 0s 6ms/step - loss: 2.1071 - val_loss: 2.5647\n",
      "Epoch 52/100\n",
      "13/13 [==============================] - 0s 7ms/step - loss: 2.0570 - val_loss: 2.4770\n",
      "Epoch 53/100\n",
      "13/13 [==============================] - 0s 6ms/step - loss: 2.0121 - val_loss: 2.4425\n",
      "Epoch 54/100\n",
      "13/13 [==============================] - 0s 6ms/step - loss: 1.9369 - val_loss: 2.3968\n",
      "Epoch 55/100\n",
      "13/13 [==============================] - 0s 5ms/step - loss: 1.8858 - val_loss: 2.3230\n",
      "Epoch 56/100\n",
      "13/13 [==============================] - 0s 5ms/step - loss: 1.8329 - val_loss: 2.2876\n",
      "Epoch 57/100\n",
      "13/13 [==============================] - 0s 5ms/step - loss: 1.7771 - val_loss: 2.2050\n",
      "Epoch 58/100\n",
      "13/13 [==============================] - 0s 5ms/step - loss: 1.7226 - val_loss: 2.1694\n",
      "Epoch 59/100\n",
      "13/13 [==============================] - 0s 5ms/step - loss: 1.6924 - val_loss: 2.0998\n",
      "Epoch 60/100\n",
      "13/13 [==============================] - 0s 5ms/step - loss: 1.6443 - val_loss: 2.0467\n",
      "Epoch 61/100\n",
      "13/13 [==============================] - 0s 5ms/step - loss: 1.5914 - val_loss: 2.0238\n",
      "Epoch 62/100\n",
      "13/13 [==============================] - 0s 5ms/step - loss: 1.5386 - val_loss: 1.9952\n",
      "Epoch 63/100\n",
      "13/13 [==============================] - 0s 5ms/step - loss: 1.5007 - val_loss: 1.9350\n",
      "Epoch 64/100\n",
      "13/13 [==============================] - 0s 5ms/step - loss: 1.4812 - val_loss: 1.8878\n",
      "Epoch 65/100\n",
      "13/13 [==============================] - 0s 5ms/step - loss: 1.4316 - val_loss: 1.8689\n",
      "Epoch 66/100\n",
      "13/13 [==============================] - 0s 5ms/step - loss: 1.3845 - val_loss: 1.8155\n",
      "Epoch 67/100\n",
      "13/13 [==============================] - 0s 5ms/step - loss: 1.3612 - val_loss: 1.7486\n",
      "Epoch 68/100\n",
      "13/13 [==============================] - 0s 5ms/step - loss: 1.3136 - val_loss: 1.7383\n",
      "Epoch 69/100\n",
      "13/13 [==============================] - 0s 5ms/step - loss: 1.2854 - val_loss: 1.7089\n",
      "Epoch 70/100\n",
      "13/13 [==============================] - 0s 5ms/step - loss: 1.2479 - val_loss: 1.6705\n",
      "Epoch 71/100\n",
      "13/13 [==============================] - 0s 6ms/step - loss: 1.2126 - val_loss: 1.6209\n",
      "Epoch 72/100\n",
      "13/13 [==============================] - 0s 5ms/step - loss: 1.1965 - val_loss: 1.6077\n",
      "Epoch 73/100\n",
      "13/13 [==============================] - 0s 5ms/step - loss: 1.1602 - val_loss: 1.5491\n",
      "Epoch 74/100\n",
      "13/13 [==============================] - 0s 5ms/step - loss: 1.1356 - val_loss: 1.5389\n",
      "Epoch 75/100\n",
      "13/13 [==============================] - 0s 5ms/step - loss: 1.0942 - val_loss: 1.4873\n",
      "Epoch 76/100\n",
      "13/13 [==============================] - 0s 5ms/step - loss: 1.0611 - val_loss: 1.4602\n",
      "Epoch 77/100\n",
      "13/13 [==============================] - 0s 5ms/step - loss: 1.0367 - val_loss: 1.4562\n",
      "Epoch 78/100\n",
      "13/13 [==============================] - 0s 5ms/step - loss: 1.0096 - val_loss: 1.4292\n",
      "Epoch 79/100\n",
      "13/13 [==============================] - 0s 5ms/step - loss: 0.9759 - val_loss: 1.3894\n",
      "Epoch 80/100\n",
      "13/13 [==============================] - 0s 5ms/step - loss: 0.9548 - val_loss: 1.3679\n",
      "Epoch 81/100\n",
      "13/13 [==============================] - 0s 5ms/step - loss: 0.9433 - val_loss: 1.3508\n",
      "Epoch 82/100\n"
     ]
    },
    {
     "name": "stdout",
     "output_type": "stream",
     "text": [
      "13/13 [==============================] - 0s 5ms/step - loss: 0.9110 - val_loss: 1.3194\n",
      "Epoch 83/100\n",
      "13/13 [==============================] - 0s 5ms/step - loss: 0.8921 - val_loss: 1.2953\n",
      "Epoch 84/100\n",
      "13/13 [==============================] - 0s 5ms/step - loss: 0.8668 - val_loss: 1.2811\n",
      "Epoch 85/100\n",
      "13/13 [==============================] - 0s 5ms/step - loss: 0.8610 - val_loss: 1.2553\n",
      "Epoch 86/100\n",
      "13/13 [==============================] - 0s 5ms/step - loss: 0.8586 - val_loss: 1.2562\n",
      "Epoch 87/100\n",
      "13/13 [==============================] - 0s 5ms/step - loss: 0.8326 - val_loss: 1.2146\n",
      "Epoch 88/100\n",
      "13/13 [==============================] - 0s 5ms/step - loss: 0.8056 - val_loss: 1.2069\n",
      "Epoch 89/100\n",
      "13/13 [==============================] - 0s 5ms/step - loss: 0.7737 - val_loss: 1.2073\n",
      "Epoch 90/100\n",
      "13/13 [==============================] - 0s 6ms/step - loss: 0.7694 - val_loss: 1.1611\n",
      "Epoch 91/100\n",
      "13/13 [==============================] - 0s 6ms/step - loss: 0.7533 - val_loss: 1.1673\n",
      "Epoch 92/100\n",
      "13/13 [==============================] - 0s 5ms/step - loss: 0.7296 - val_loss: 1.1512\n",
      "Epoch 93/100\n",
      "13/13 [==============================] - 0s 5ms/step - loss: 0.7264 - val_loss: 1.1182\n",
      "Epoch 94/100\n",
      "13/13 [==============================] - 0s 5ms/step - loss: 0.7041 - val_loss: 1.1141\n",
      "Epoch 95/100\n",
      "13/13 [==============================] - 0s 5ms/step - loss: 0.6780 - val_loss: 1.0933\n",
      "Epoch 96/100\n",
      "13/13 [==============================] - 0s 5ms/step - loss: 0.6640 - val_loss: 1.0887\n",
      "Epoch 97/100\n",
      "13/13 [==============================] - 0s 5ms/step - loss: 0.6420 - val_loss: 1.0658\n",
      "Epoch 98/100\n",
      "13/13 [==============================] - 0s 5ms/step - loss: 0.6284 - val_loss: 1.0482\n",
      "Epoch 99/100\n",
      "13/13 [==============================] - 0s 5ms/step - loss: 0.6183 - val_loss: 1.0343\n",
      "Epoch 100/100\n",
      "13/13 [==============================] - 0s 5ms/step - loss: 0.6055 - val_loss: 1.0332\n"
     ]
    }
   ],
   "source": [
    "# Train the model\n",
    "history = model.fit(X_train_scaled, Y_train, validation_data=(X_test_scaled, Y_test), epochs=100)"
   ]
  },
  {
   "cell_type": "code",
   "execution_count": 12,
   "id": "ac3bad58",
   "metadata": {
    "id": "ac3bad58",
    "outputId": "4fde00c9-f548-418c-f416-0e3c5c478f04"
   },
   "outputs": [
    {
     "name": "stdout",
     "output_type": "stream",
     "text": [
      "4/4 [==============================] - 0s 4ms/step\n",
      "R^2 score: 0.9895458804730384\n"
     ]
    }
   ],
   "source": [
    "# Evaluate the model\n",
    "Y_pred = model.predict(X_test_scaled)\n",
    "r2 = r2_score(Y_test, Y_pred)\n",
    "print(\"R^2 score:\", r2)\n"
   ]
  },
  {
   "cell_type": "code",
   "execution_count": 13,
   "id": "feeca502",
   "metadata": {
    "id": "feeca502",
    "outputId": "c7446586-11c0-4dd4-d7ac-ccbe6dc63a49",
    "scrolled": true
   },
   "outputs": [
    {
     "name": "stderr",
     "output_type": "stream",
     "text": [
      "C:\\ProgramData\\Anaconda3\\lib\\site-packages\\seaborn\\_decorators.py:36: FutureWarning: Pass the following variables as keyword args: x, y. From version 0.12, the only valid positional argument will be `data`, and passing other arguments without an explicit keyword will result in an error or misinterpretation.\n",
      "  warnings.warn(\n",
      "C:\\ProgramData\\Anaconda3\\lib\\site-packages\\seaborn\\_decorators.py:36: FutureWarning: Pass the following variables as keyword args: x, y. From version 0.12, the only valid positional argument will be `data`, and passing other arguments without an explicit keyword will result in an error or misinterpretation.\n",
      "  warnings.warn(\n"
     ]
    },
    {
     "data": {
      "text/plain": [
       "<AxesSubplot:xlabel='True Values', ylabel='Predicted Values'>"
      ]
     },
     "execution_count": 13,
     "metadata": {},
     "output_type": "execute_result"
    },
    {
     "data": {
      "image/png": "[encoded data removed]",
      "text/plain": [
       "<Figure size 432x288 with 1 Axes>"
      ]
     },
     "metadata": {
      "needs_background": "light"
     },
     "output_type": "display_data"
    }
   ],
   "source": [
    "import numpy as np\n",
    "import seaborn as sns\n",
    "\n",
    "# Generate some sample data\n",
    "X = np.random.normal(0, 1, 100)\n",
    "Y = 2 * X + np.random.normal(0, 1, 100)\n",
    "\n",
    "# Fit a linear regression model\n",
    "model = np.polyfit(X, Y, 1)\n",
    "\n",
    "# Make predictions on the training data\n",
    "Y_pred = np.polyval(model, X)\n",
    "\n",
    "# Add axis labels\n",
    "plt.xlabel('True Values')\n",
    "plt.ylabel('Predicted Values')\n",
    "\n",
    "# Create a scatter plot of predicted vs true values\n",
    "sns.scatterplot(np.squeeze(Y), np.squeeze(Y_pred))\n",
    "\n",
    "# Add a diagonal line to show perfect correlation\n",
    "sns.lineplot(np.squeeze(Y), np.squeeze(Y), color='red')\n",
    "\n"
   ]
  },
  {
   "cell_type": "code",
   "execution_count": null,
   "id": "fb610184",
   "metadata": {
    "id": "fb610184"
   },
   "outputs": [],
   "source": []
  }
 ],
 "metadata": {
  "colab": {
   "provenance": []
  },
  "kernelspec": {
   "display_name": "Python 3 (ipykernel)",
   "language": "python",
   "name": "python3"
  },
  "language_info": {
   "codemirror_mode": {
    "name": "ipython",
    "version": 3
   },
   "file_extension": ".py",
   "mimetype": "text/x-python",
   "name": "python",
   "nbconvert_exporter": "python",
   "pygments_lexer": "ipython3",
   "version": "3.9.12"
  }
 },
 "nbformat": 4,
 "nbformat_minor": 5
}
