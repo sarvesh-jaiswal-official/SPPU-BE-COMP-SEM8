{
 "cells": [
  {
   "cell_type": "code",
   "execution_count": 1,
   "id": "c553351e",
   "metadata": {
    "id": "c553351e"
   },
   "outputs": [],
   "source": [
    "import nltk"
   ]
  },
  {
   "cell_type": "code",
   "execution_count": 2,
   "id": "94e66f79",
   "metadata": {
    "colab": {
     "base_uri": "https://localhost:8080/",
     "height": 0
    },
    "id": "94e66f79",
    "outputId": "a92fbfb8-f93f-4aed-9316-20d8ad225338"
   },
   "outputs": [
    {
     "name": "stderr",
     "output_type": "stream",
     "text": [
      "[nltk_data] Downloading package punkt to\n",
      "[nltk_data]     C:\\Users\\SARVESH\\AppData\\Roaming\\nltk_data...\n",
      "[nltk_data]   Package punkt is already up-to-date!\n"
     ]
    },
    {
     "data": {
      "text/plain": [
       "True"
      ]
     },
     "execution_count": 2,
     "metadata": {},
     "output_type": "execute_result"
    }
   ],
   "source": [
    "nltk.download('punkt')"
   ]
  },
  {
   "cell_type": "code",
   "execution_count": 3,
   "id": "c3a79597",
   "metadata": {
    "colab": {
     "base_uri": "https://localhost:8080/",
     "height": 0
    },
    "id": "c3a79597",
    "outputId": "69715654-1aa8-4365-c88a-bcc9e57c5770"
   },
   "outputs": [
    {
     "name": "stdout",
     "output_type": "stream",
     "text": [
      "{'achievers': 0, 'afraid': 1, 'challenges': 3, 'relish': 7, 'thrive': 9, 'use': 12, 'makes': 6, 'stronger': 8, 'uncomfortable': 11, 'comfortable': 4, 'uncomfort': 10, 'grow': 5, 'challenge': 2}\n",
      "[[1 1 0 1 0 0 0 1 0 1 0 0 1]\n",
      " [0 0 0 1 0 0 1 0 1 0 0 0 0]\n",
      " [0 0 0 1 0 0 1 0 0 0 0 1 0]\n",
      " [0 0 0 0 1 1 0 0 0 0 1 0 0]\n",
      " [0 0 2 0 0 0 0 0 0 0 0 0 0]]\n"
     ]
    }
   ],
   "source": [
    "#Creating frequency distribution of words using nltk\n",
    "from nltk.tokenize import sent_tokenize\n",
    "from nltk.tokenize import word_tokenize\n",
    "from sklearn.feature_extraction.text import CountVectorizer\n",
    "text = \"\"\"Achievers are not afraid of Challenges, rather they relish them,\n",
    "        thrive in them, use them. Challenges makes is stronger.\n",
    "        Challenges makes us uncomfortable. If you get comfortable with uncomfort then you will grow.\n",
    "        Challenge the challenge. \"\"\"\n",
    "#Tokenize the sentences from the text corpus\n",
    "tokenized_text=sent_tokenize(text)#using CountVectorizer and removing stopwords in english language\n",
    "cvl= CountVectorizer(lowercase=True,stop_words='english')#fitting the tonized senetnecs to the countvectorizer\n",
    "text_counts=cvl.fit_transform(tokenized_text)# printing the vocabulary and the frequency distribution pf vocabulary i\n",
    "print(cvl.vocabulary_)\n",
    "print(text_counts.toarray()) "
   ]
  },
  {
   "cell_type": "code",
   "execution_count": 4,
   "id": "090c56f8",
   "metadata": {
    "id": "090c56f8"
   },
   "outputs": [],
   "source": [
    "import collections\n",
    "import pandas as pd\n",
    "import numpy as np \n",
    "\n",
    "from sklearn.feature_extraction.text import CountVectorizer, TfidfVectorizer "
   ]
  },
  {
   "cell_type": "code",
   "execution_count": 5,
   "id": "888fa4f9",
   "metadata": {
    "colab": {
     "base_uri": "https://localhost:8080/",
     "height": 206
    },
    "id": "888fa4f9",
    "outputId": "e2f81df8-18d5-43e6-c687-0c95823b5849"
   },
   "outputs": [
    {
     "data": {
      "text/html": [
       "<div>\n",
       "<style scoped>\n",
       "    .dataframe tbody tr th:only-of-type {\n",
       "        vertical-align: middle;\n",
       "    }\n",
       "\n",
       "    .dataframe tbody tr th {\n",
       "        vertical-align: top;\n",
       "    }\n",
       "\n",
       "    .dataframe thead th {\n",
       "        text-align: right;\n",
       "    }\n",
       "</style>\n",
       "<table border=\"1\" class=\"dataframe\">\n",
       "  <thead>\n",
       "    <tr style=\"text-align: right;\">\n",
       "      <th></th>\n",
       "      <th>Word</th>\n",
       "      <th>Count</th>\n",
       "    </tr>\n",
       "  </thead>\n",
       "  <tbody>\n",
       "    <tr>\n",
       "      <th>0</th>\n",
       "      <td>beautiful</td>\n",
       "      <td>1</td>\n",
       "    </tr>\n",
       "    <tr>\n",
       "      <th>1</th>\n",
       "      <td>country</td>\n",
       "      <td>2</td>\n",
       "    </tr>\n",
       "    <tr>\n",
       "      <th>2</th>\n",
       "      <td>india</td>\n",
       "      <td>2</td>\n",
       "    </tr>\n",
       "    <tr>\n",
       "      <th>3</th>\n",
       "      <td>is</td>\n",
       "      <td>2</td>\n",
       "    </tr>\n",
       "    <tr>\n",
       "      <th>4</th>\n",
       "      <td>my</td>\n",
       "      <td>1</td>\n",
       "    </tr>\n",
       "  </tbody>\n",
       "</table>\n",
       "</div>"
      ],
      "text/plain": [
       "        Word  Count\n",
       "0  beautiful      1\n",
       "1    country      2\n",
       "2      india      2\n",
       "3         is      2\n",
       "4         my      1"
      ]
     },
     "execution_count": 5,
     "metadata": {},
     "output_type": "execute_result"
    }
   ],
   "source": [
    "doc = \"India is my country. India is very beautiful country.\"\n",
    "count_vec = CountVectorizer()\n",
    "count_occurs = count_vec.fit_transform([doc])\n",
    "count_occur_df = pd.DataFrame((count, word) for word, count in zip(count_occurs.toarray().tolist()[0],\n",
    "                    count_vec.get_feature_names_out()))\n",
    "count_occur_df.columns = ['Word', 'Count']\n",
    "count_occur_df.sort_values('Count', ascending=False)\n",
    "count_occur_df.head() "
   ]
  },
  {
   "cell_type": "code",
   "execution_count": 6,
   "id": "8868bc50",
   "metadata": {
    "colab": {
     "base_uri": "https://localhost:8080/",
     "height": 206
    },
    "id": "8868bc50",
    "outputId": "38305ba9-58a4-4c72-a372-decfc6357cd8"
   },
   "outputs": [
    {
     "data": {
      "text/html": [
       "<div>\n",
       "<style scoped>\n",
       "    .dataframe tbody tr th:only-of-type {\n",
       "        vertical-align: middle;\n",
       "    }\n",
       "\n",
       "    .dataframe tbody tr th {\n",
       "        vertical-align: top;\n",
       "    }\n",
       "\n",
       "    .dataframe thead th {\n",
       "        text-align: right;\n",
       "    }\n",
       "</style>\n",
       "<table border=\"1\" class=\"dataframe\">\n",
       "  <thead>\n",
       "    <tr style=\"text-align: right;\">\n",
       "      <th></th>\n",
       "      <th>Word</th>\n",
       "      <th>Count</th>\n",
       "    </tr>\n",
       "  </thead>\n",
       "  <tbody>\n",
       "    <tr>\n",
       "      <th>1</th>\n",
       "      <td>country</td>\n",
       "      <td>0.516398</td>\n",
       "    </tr>\n",
       "    <tr>\n",
       "      <th>2</th>\n",
       "      <td>india</td>\n",
       "      <td>0.516398</td>\n",
       "    </tr>\n",
       "    <tr>\n",
       "      <th>3</th>\n",
       "      <td>is</td>\n",
       "      <td>0.516398</td>\n",
       "    </tr>\n",
       "    <tr>\n",
       "      <th>0</th>\n",
       "      <td>beautiful</td>\n",
       "      <td>0.258199</td>\n",
       "    </tr>\n",
       "    <tr>\n",
       "      <th>4</th>\n",
       "      <td>my</td>\n",
       "      <td>0.258199</td>\n",
       "    </tr>\n",
       "  </tbody>\n",
       "</table>\n",
       "</div>"
      ],
      "text/plain": [
       "        Word     Count\n",
       "1    country  0.516398\n",
       "2      india  0.516398\n",
       "3         is  0.516398\n",
       "0  beautiful  0.258199\n",
       "4         my  0.258199"
      ]
     },
     "execution_count": 6,
     "metadata": {},
     "output_type": "execute_result"
    }
   ],
   "source": [
    "doc = \"India is my country. India is very beautiful country.\"\n",
    "norm_count_vec = TfidfVectorizer(use_idf=False, norm='l2')\n",
    "norm_count_occurs = norm_count_vec. fit_transform( [doc] )\n",
    "norm_count_occur_df = pd.DataFrame((count, word) for word, count in zip(\n",
    "    norm_count_occurs.toarray().tolist()[0], norm_count_vec.get_feature_names_out()))\n",
    "norm_count_occur_df.columns = ['Word', 'Count']\n",
    "norm_count_occur_df.sort_values('Count', ascending=False, inplace=True)\n",
    "norm_count_occur_df.head() "
   ]
  },
  {
   "cell_type": "code",
   "execution_count": 7,
   "id": "b4c990ba",
   "metadata": {
    "colab": {
     "base_uri": "https://localhost:8080/",
     "height": 206
    },
    "id": "b4c990ba",
    "outputId": "3fab7a36-9dd6-4916-9c59-16b24370c3a9"
   },
   "outputs": [
    {
     "data": {
      "text/html": [
       "<div>\n",
       "<style scoped>\n",
       "    .dataframe tbody tr th:only-of-type {\n",
       "        vertical-align: middle;\n",
       "    }\n",
       "\n",
       "    .dataframe tbody tr th {\n",
       "        vertical-align: top;\n",
       "    }\n",
       "\n",
       "    .dataframe thead th {\n",
       "        text-align: right;\n",
       "    }\n",
       "</style>\n",
       "<table border=\"1\" class=\"dataframe\">\n",
       "  <thead>\n",
       "    <tr style=\"text-align: right;\">\n",
       "      <th></th>\n",
       "      <th>Word</th>\n",
       "      <th>Count</th>\n",
       "    </tr>\n",
       "  </thead>\n",
       "  <tbody>\n",
       "    <tr>\n",
       "      <th>0</th>\n",
       "      <td>beautiful</td>\n",
       "      <td>0.258199</td>\n",
       "    </tr>\n",
       "    <tr>\n",
       "      <th>4</th>\n",
       "      <td>my</td>\n",
       "      <td>0.258199</td>\n",
       "    </tr>\n",
       "    <tr>\n",
       "      <th>5</th>\n",
       "      <td>very</td>\n",
       "      <td>0.258199</td>\n",
       "    </tr>\n",
       "    <tr>\n",
       "      <th>1</th>\n",
       "      <td>country</td>\n",
       "      <td>0.516398</td>\n",
       "    </tr>\n",
       "    <tr>\n",
       "      <th>2</th>\n",
       "      <td>india</td>\n",
       "      <td>0.516398</td>\n",
       "    </tr>\n",
       "  </tbody>\n",
       "</table>\n",
       "</div>"
      ],
      "text/plain": [
       "        Word     Count\n",
       "0  beautiful  0.258199\n",
       "4         my  0.258199\n",
       "5       very  0.258199\n",
       "1    country  0.516398\n",
       "2      india  0.516398"
      ]
     },
     "execution_count": 7,
     "metadata": {},
     "output_type": "execute_result"
    }
   ],
   "source": [
    "doc = \"India is my country. India is very beautiful country.\"\n",
    "tfidf_vec = TfidfVectorizer()\n",
    "tfidf_count_occurs = tfidf_vec.fit_transform([doc])\n",
    "tfidf_count_occur_df = pd.DataFrame((count, word) for word, count in zip(\n",
    "    tfidf_count_occurs.toarray().tolist()[0], tfidf_vec.get_feature_names_out()))\n",
    "tfidf_count_occur_df.columns = ['Word', 'Count']\n",
    "tfidf_count_occur_df.sort_values('Count', ascending=True, inplace=True)\n",
    "tfidf_count_occur_df.head() "
   ]
  },
  {
   "cell_type": "code",
   "execution_count": 8,
   "id": "ffa7faa9",
   "metadata": {
    "id": "ffa7faa9"
   },
   "outputs": [],
   "source": [
    "import pandas as pd "
   ]
  },
  {
   "cell_type": "code",
   "execution_count": 9,
   "id": "SHbtnjmDxDz-",
   "metadata": {
    "colab": {
     "base_uri": "https://localhost:8080/",
     "height": 0
    },
    "id": "SHbtnjmDxDz-",
    "outputId": "2cba1109-e487-46de-8fda-9d219e1e8406"
   },
   "outputs": [
    {
     "name": "stderr",
     "output_type": "stream",
     "text": [
      "'wget' is not recognized as an internal or external command,\n",
      "operable program or batch file.\n"
     ]
    }
   ],
   "source": [
    "!wget https://raw.githubusercontent.com/PICT-NLP/BE-NLP-Elective/main/2-Embeddings/data.csv "
   ]
  },
  {
   "cell_type": "code",
   "execution_count": 10,
   "id": "5d5969cc",
   "metadata": {
    "colab": {
     "base_uri": "https://localhost:8080/",
     "height": 441
    },
    "id": "5d5969cc",
    "outputId": "fcca67fc-107b-4686-d7c0-b80e9cb65811"
   },
   "outputs": [
    {
     "data": {
      "text/html": [
       "<div>\n",
       "<style scoped>\n",
       "    .dataframe tbody tr th:only-of-type {\n",
       "        vertical-align: middle;\n",
       "    }\n",
       "\n",
       "    .dataframe tbody tr th {\n",
       "        vertical-align: top;\n",
       "    }\n",
       "\n",
       "    .dataframe thead th {\n",
       "        text-align: right;\n",
       "    }\n",
       "</style>\n",
       "<table border=\"1\" class=\"dataframe\">\n",
       "  <thead>\n",
       "    <tr style=\"text-align: right;\">\n",
       "      <th></th>\n",
       "      <th>Make</th>\n",
       "      <th>Model</th>\n",
       "      <th>Year</th>\n",
       "      <th>Engine Fuel Type</th>\n",
       "      <th>Engine HP</th>\n",
       "      <th>Engine Cylinders</th>\n",
       "      <th>Transmission Type</th>\n",
       "      <th>Driven_Wheels</th>\n",
       "      <th>Number of Doors</th>\n",
       "      <th>Market Category</th>\n",
       "      <th>Vehicle Size</th>\n",
       "      <th>Vehicle Style</th>\n",
       "      <th>highway MPG</th>\n",
       "      <th>city mpg</th>\n",
       "      <th>Popularity</th>\n",
       "      <th>MSRP</th>\n",
       "    </tr>\n",
       "  </thead>\n",
       "  <tbody>\n",
       "    <tr>\n",
       "      <th>0</th>\n",
       "      <td>BMW</td>\n",
       "      <td>1 Series M</td>\n",
       "      <td>2011</td>\n",
       "      <td>premium unleaded (required)</td>\n",
       "      <td>335.0</td>\n",
       "      <td>6.0</td>\n",
       "      <td>MANUAL</td>\n",
       "      <td>rear wheel drive</td>\n",
       "      <td>2.0</td>\n",
       "      <td>Factory Tuner,Luxury,High-Performance</td>\n",
       "      <td>Compact</td>\n",
       "      <td>Coupe</td>\n",
       "      <td>26</td>\n",
       "      <td>19</td>\n",
       "      <td>3916</td>\n",
       "      <td>46135</td>\n",
       "    </tr>\n",
       "    <tr>\n",
       "      <th>1</th>\n",
       "      <td>BMW</td>\n",
       "      <td>1 Series</td>\n",
       "      <td>2011</td>\n",
       "      <td>premium unleaded (required)</td>\n",
       "      <td>300.0</td>\n",
       "      <td>6.0</td>\n",
       "      <td>MANUAL</td>\n",
       "      <td>rear wheel drive</td>\n",
       "      <td>2.0</td>\n",
       "      <td>Luxury,Performance</td>\n",
       "      <td>Compact</td>\n",
       "      <td>Convertible</td>\n",
       "      <td>28</td>\n",
       "      <td>19</td>\n",
       "      <td>3916</td>\n",
       "      <td>40650</td>\n",
       "    </tr>\n",
       "    <tr>\n",
       "      <th>2</th>\n",
       "      <td>BMW</td>\n",
       "      <td>1 Series</td>\n",
       "      <td>2011</td>\n",
       "      <td>premium unleaded (required)</td>\n",
       "      <td>300.0</td>\n",
       "      <td>6.0</td>\n",
       "      <td>MANUAL</td>\n",
       "      <td>rear wheel drive</td>\n",
       "      <td>2.0</td>\n",
       "      <td>Luxury,High-Performance</td>\n",
       "      <td>Compact</td>\n",
       "      <td>Coupe</td>\n",
       "      <td>28</td>\n",
       "      <td>20</td>\n",
       "      <td>3916</td>\n",
       "      <td>36350</td>\n",
       "    </tr>\n",
       "    <tr>\n",
       "      <th>3</th>\n",
       "      <td>BMW</td>\n",
       "      <td>1 Series</td>\n",
       "      <td>2011</td>\n",
       "      <td>premium unleaded (required)</td>\n",
       "      <td>230.0</td>\n",
       "      <td>6.0</td>\n",
       "      <td>MANUAL</td>\n",
       "      <td>rear wheel drive</td>\n",
       "      <td>2.0</td>\n",
       "      <td>Luxury,Performance</td>\n",
       "      <td>Compact</td>\n",
       "      <td>Coupe</td>\n",
       "      <td>28</td>\n",
       "      <td>18</td>\n",
       "      <td>3916</td>\n",
       "      <td>29450</td>\n",
       "    </tr>\n",
       "    <tr>\n",
       "      <th>4</th>\n",
       "      <td>BMW</td>\n",
       "      <td>1 Series</td>\n",
       "      <td>2011</td>\n",
       "      <td>premium unleaded (required)</td>\n",
       "      <td>230.0</td>\n",
       "      <td>6.0</td>\n",
       "      <td>MANUAL</td>\n",
       "      <td>rear wheel drive</td>\n",
       "      <td>2.0</td>\n",
       "      <td>Luxury</td>\n",
       "      <td>Compact</td>\n",
       "      <td>Convertible</td>\n",
       "      <td>28</td>\n",
       "      <td>18</td>\n",
       "      <td>3916</td>\n",
       "      <td>34500</td>\n",
       "    </tr>\n",
       "  </tbody>\n",
       "</table>\n",
       "</div>"
      ],
      "text/plain": [
       "  Make       Model  Year             Engine Fuel Type  Engine HP  \\\n",
       "0  BMW  1 Series M  2011  premium unleaded (required)      335.0   \n",
       "1  BMW    1 Series  2011  premium unleaded (required)      300.0   \n",
       "2  BMW    1 Series  2011  premium unleaded (required)      300.0   \n",
       "3  BMW    1 Series  2011  premium unleaded (required)      230.0   \n",
       "4  BMW    1 Series  2011  premium unleaded (required)      230.0   \n",
       "\n",
       "   Engine Cylinders Transmission Type     Driven_Wheels  Number of Doors  \\\n",
       "0               6.0            MANUAL  rear wheel drive              2.0   \n",
       "1               6.0            MANUAL  rear wheel drive              2.0   \n",
       "2               6.0            MANUAL  rear wheel drive              2.0   \n",
       "3               6.0            MANUAL  rear wheel drive              2.0   \n",
       "4               6.0            MANUAL  rear wheel drive              2.0   \n",
       "\n",
       "                         Market Category Vehicle Size Vehicle Style  \\\n",
       "0  Factory Tuner,Luxury,High-Performance      Compact         Coupe   \n",
       "1                     Luxury,Performance      Compact   Convertible   \n",
       "2                Luxury,High-Performance      Compact         Coupe   \n",
       "3                     Luxury,Performance      Compact         Coupe   \n",
       "4                                 Luxury      Compact   Convertible   \n",
       "\n",
       "   highway MPG  city mpg  Popularity   MSRP  \n",
       "0           26        19        3916  46135  \n",
       "1           28        19        3916  40650  \n",
       "2           28        20        3916  36350  \n",
       "3           28        18        3916  29450  \n",
       "4           28        18        3916  34500  "
      ]
     },
     "execution_count": 10,
     "metadata": {},
     "output_type": "execute_result"
    }
   ],
   "source": [
    "df = pd.read_csv('data.csv')\n",
    "df.head()"
   ]
  },
  {
   "cell_type": "code",
   "execution_count": 11,
   "id": "59e2d66a",
   "metadata": {
    "id": "59e2d66a"
   },
   "outputs": [],
   "source": [
    "df['Maker Model']= df['Make']+ \" \" + df['Model'] "
   ]
  },
  {
   "cell_type": "code",
   "execution_count": 12,
   "id": "94378ebd",
   "metadata": {
    "id": "94378ebd"
   },
   "outputs": [],
   "source": [
    "df1 = df[['Engine Fuel Type','Transmission Type','Driven_Wheels', 'Market Category','Vehicle Size', 'Vehicle Style', 'Maker Model']]\n",
    "df2 = df1.apply(lambda x: ','.join(x.astype(str)), axis=1)\n",
    "df_clean = pd.DataFrame({'clean': df2})\n",
    "sent = [row.split(',') for row in df_clean['clean']] "
   ]
  },
  {
   "cell_type": "code",
   "execution_count": 13,
   "id": "996adf27",
   "metadata": {
    "colab": {
     "base_uri": "https://localhost:8080/",
     "height": 424
    },
    "id": "996adf27",
    "outputId": "bdfa8cb1-5d1a-4a16-e2c8-6bb53f9398e0"
   },
   "outputs": [
    {
     "data": {
      "text/html": [
       "<div>\n",
       "<style scoped>\n",
       "    .dataframe tbody tr th:only-of-type {\n",
       "        vertical-align: middle;\n",
       "    }\n",
       "\n",
       "    .dataframe tbody tr th {\n",
       "        vertical-align: top;\n",
       "    }\n",
       "\n",
       "    .dataframe thead th {\n",
       "        text-align: right;\n",
       "    }\n",
       "</style>\n",
       "<table border=\"1\" class=\"dataframe\">\n",
       "  <thead>\n",
       "    <tr style=\"text-align: right;\">\n",
       "      <th></th>\n",
       "      <th>clean</th>\n",
       "    </tr>\n",
       "  </thead>\n",
       "  <tbody>\n",
       "    <tr>\n",
       "      <th>0</th>\n",
       "      <td>premium unleaded (required),MANUAL,rear wheel ...</td>\n",
       "    </tr>\n",
       "    <tr>\n",
       "      <th>1</th>\n",
       "      <td>premium unleaded (required),MANUAL,rear wheel ...</td>\n",
       "    </tr>\n",
       "    <tr>\n",
       "      <th>2</th>\n",
       "      <td>premium unleaded (required),MANUAL,rear wheel ...</td>\n",
       "    </tr>\n",
       "    <tr>\n",
       "      <th>3</th>\n",
       "      <td>premium unleaded (required),MANUAL,rear wheel ...</td>\n",
       "    </tr>\n",
       "    <tr>\n",
       "      <th>4</th>\n",
       "      <td>premium unleaded (required),MANUAL,rear wheel ...</td>\n",
       "    </tr>\n",
       "    <tr>\n",
       "      <th>...</th>\n",
       "      <td>...</td>\n",
       "    </tr>\n",
       "    <tr>\n",
       "      <th>11909</th>\n",
       "      <td>premium unleaded (required),AUTOMATIC,all whee...</td>\n",
       "    </tr>\n",
       "    <tr>\n",
       "      <th>11910</th>\n",
       "      <td>premium unleaded (required),AUTOMATIC,all whee...</td>\n",
       "    </tr>\n",
       "    <tr>\n",
       "      <th>11911</th>\n",
       "      <td>premium unleaded (required),AUTOMATIC,all whee...</td>\n",
       "    </tr>\n",
       "    <tr>\n",
       "      <th>11912</th>\n",
       "      <td>premium unleaded (recommended),AUTOMATIC,all w...</td>\n",
       "    </tr>\n",
       "    <tr>\n",
       "      <th>11913</th>\n",
       "      <td>regular unleaded,AUTOMATIC,front wheel drive,L...</td>\n",
       "    </tr>\n",
       "  </tbody>\n",
       "</table>\n",
       "<p>11914 rows × 1 columns</p>\n",
       "</div>"
      ],
      "text/plain": [
       "                                                   clean\n",
       "0      premium unleaded (required),MANUAL,rear wheel ...\n",
       "1      premium unleaded (required),MANUAL,rear wheel ...\n",
       "2      premium unleaded (required),MANUAL,rear wheel ...\n",
       "3      premium unleaded (required),MANUAL,rear wheel ...\n",
       "4      premium unleaded (required),MANUAL,rear wheel ...\n",
       "...                                                  ...\n",
       "11909  premium unleaded (required),AUTOMATIC,all whee...\n",
       "11910  premium unleaded (required),AUTOMATIC,all whee...\n",
       "11911  premium unleaded (required),AUTOMATIC,all whee...\n",
       "11912  premium unleaded (recommended),AUTOMATIC,all w...\n",
       "11913  regular unleaded,AUTOMATIC,front wheel drive,L...\n",
       "\n",
       "[11914 rows x 1 columns]"
      ]
     },
     "execution_count": 13,
     "metadata": {},
     "output_type": "execute_result"
    }
   ],
   "source": [
    "df_clean "
   ]
  },
  {
   "cell_type": "code",
   "execution_count": 14,
   "id": "5mplcQXUxksN",
   "metadata": {
    "id": "5mplcQXUxksN"
   },
   "outputs": [],
   "source": [
    "from gensim.models.word2vec import Word2Vec "
   ]
  },
  {
   "cell_type": "code",
   "execution_count": 15,
   "id": "hmCbU9FIxn9F",
   "metadata": {
    "id": "hmCbU9FIxn9F"
   },
   "outputs": [],
   "source": [
    "model = Word2Vec(sent, min_count=1,vector_size= 50,workers=3, window =3, sg= 1) "
   ]
  },
  {
   "cell_type": "code",
   "execution_count": 16,
   "id": "DdAtCKjsxynd",
   "metadata": {
    "id": "DdAtCKjsxynd"
   },
   "outputs": [],
   "source": [
    "model.save(\"word2vec.model\") "
   ]
  },
  {
   "cell_type": "code",
   "execution_count": 17,
   "id": "sl4pWEWEx6y_",
   "metadata": {
    "id": "sl4pWEWEx6y_"
   },
   "outputs": [],
   "source": [
    "model = Word2Vec.load(\"word2vec.model\") "
   ]
  },
  {
   "cell_type": "code",
   "execution_count": 18,
   "id": "phMsyLk1x9f_",
   "metadata": {
    "colab": {
     "base_uri": "https://localhost:8080/",
     "height": 0
    },
    "id": "phMsyLk1x9f_",
    "outputId": "a6c3c79a-4012-44a9-ca60-35b46edb8d8e"
   },
   "outputs": [
    {
     "data": {
      "text/plain": [
       "array([ 0.0255812 ,  0.13900828,  0.03715063, -0.10744484, -0.08373349,\n",
       "       -0.17542394, -0.01428106,  0.23986633, -0.12642862, -0.02938929,\n",
       "        0.00610763,  0.00171292,  0.10102752, -0.04844876, -0.05860265,\n",
       "        0.15094078,  0.11549113,  0.24968036, -0.10165373, -0.27455732,\n",
       "       -0.07546954, -0.00415546,  0.2097979 ,  0.06391793,  0.18079066,\n",
       "        0.01044053, -0.04835675,  0.3443316 , -0.03039352,  0.00251802,\n",
       "       -0.04621544,  0.02360438,  0.06433985, -0.0023059 ,  0.0633148 ,\n",
       "       -0.0951896 ,  0.15698262, -0.03316173,  0.01716618,  0.00770351,\n",
       "        0.04372074, -0.02992754, -0.20013988,  0.10589921,  0.3074159 ,\n",
       "       -0.02980877, -0.01941405, -0.11001477, -0.015744  ,  0.03643061],\n",
       "      dtype=float32)"
      ]
     },
     "execution_count": 18,
     "metadata": {},
     "output_type": "execute_result"
    }
   ],
   "source": [
    "model.wv['Toyota Camry'] "
   ]
  },
  {
   "cell_type": "code",
   "execution_count": 19,
   "id": "M-yIwPdvzU9e",
   "metadata": {
    "colab": {
     "base_uri": "https://localhost:8080/",
     "height": 0
    },
    "id": "M-yIwPdvzU9e",
    "outputId": "959eb9a6-6458-4fde-d407-90d6f8f4e471"
   },
   "outputs": [
    {
     "data": {
      "text/plain": [
       "[('Nissan Altima', 0.9789924621582031),\n",
       " ('Suzuki Aerio', 0.97333824634552),\n",
       " ('Nissan Sentra', 0.9725769758224487),\n",
       " ('Chevrolet Cruze', 0.9711400866508484),\n",
       " ('Toyota Avalon', 0.9710570573806763),\n",
       " ('Mazda 6', 0.9701946377754211),\n",
       " ('Oldsmobile Alero', 0.9683876633644104),\n",
       " ('Oldsmobile Eighty-Eight Royale', 0.9677125811576843),\n",
       " ('Hyundai Azera', 0.9655715227127075),\n",
       " ('Nissan Cube', 0.9648975133895874)]"
      ]
     },
     "execution_count": 19,
     "metadata": {},
     "output_type": "execute_result"
    }
   ],
   "source": [
    "sims = model.wv.most_similar('Toyota Camry', topn=10)\n",
    "sims "
   ]
  },
  {
   "cell_type": "code",
   "execution_count": 20,
   "id": "-QzriMfZzbR9",
   "metadata": {
    "colab": {
     "base_uri": "https://localhost:8080/",
     "height": 0
    },
    "id": "-QzriMfZzbR9",
    "outputId": "6518b830-1d87-4dff-be56-e55f28e79369"
   },
   "outputs": [
    {
     "data": {
      "text/plain": [
       "0.9701946"
      ]
     },
     "execution_count": 20,
     "metadata": {},
     "output_type": "execute_result"
    }
   ],
   "source": [
    "model.wv.similarity('Toyota Camry', 'Mazda 6') "
   ]
  },
  {
   "cell_type": "code",
   "execution_count": 21,
   "id": "uEqvOmk2zctL",
   "metadata": {
    "colab": {
     "base_uri": "https://localhost:8080/",
     "height": 0
    },
    "id": "uEqvOmk2zctL",
    "outputId": "52bcc2fa-0573-4f49-db80-a06c78e1c874"
   },
   "outputs": [
    {
     "data": {
      "text/plain": [
       "0.9827326"
      ]
     },
     "execution_count": 21,
     "metadata": {},
     "output_type": "execute_result"
    }
   ],
   "source": [
    "model.wv.similarity('Dodge Dart', 'Mazda 6') "
   ]
  }
 ],
 "metadata": {
  "colab": {
   "provenance": []
  },
  "kernelspec": {
   "display_name": "Python 3 (ipykernel)",
   "language": "python",
   "name": "python3"
  },
  "language_info": {
   "codemirror_mode": {
    "name": "ipython",
    "version": 3
   },
   "file_extension": ".py",
   "mimetype": "text/x-python",
   "name": "python",
   "nbconvert_exporter": "python",
   "pygments_lexer": "ipython3",
   "version": "3.9.12"
  }
 },
 "nbformat": 4,
 "nbformat_minor": 5
}
